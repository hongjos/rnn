{
 "cells": [
  {
   "attachments": {},
   "cell_type": "markdown",
   "metadata": {},
   "source": [
    "# RNN, LSTM, and GRU\n",
    "\n",
    "## Introduction\n",
    "This notebook contains some of the details for the implementation of Recurrent Neural Networks (RNNs) and two variants of it, the LSTM and GRU. To see the full implementation, see the source code [here](https://github.com/hongjos/rnn). Recurrent Neural Networks (RNNs) were introduced in the 1980s, with the aim of modeling sequences of data, such as text, music, and time series. However, early RNN models faced challenges with learning long-term dependencies, which limited their effectiveness. To deal with this, variants of the RNN were introduced later such as the LSTM and GRU.\n",
    "\n",
    "To test and compare implementations of the RNN, LSTM and GRU, we will use the [IMDB Movie Reviews dataset](https://keras.io/api/datasets/imdb/) for sentiment classification.\n",
    "\n",
    "This notebook just gives a standard implementation of the models to get a better understanding of them. You shouldn't actually use this implementation to do real life stuff. Instead, you should be using the ones from frameworks such as [PyTorch](https://pytorch.org/docs/stable/generated/torch.nn.RNN.html) or [TensorFlow](https://www.tensorflow.org/guide/keras/rnn).\n"
   ]
  },
  {
   "attachments": {},
   "cell_type": "markdown",
   "metadata": {},
   "source": [
    "## Prelims\n",
    "The implementation for the RNN will primarily use `numpy`. Other libraries used in this notebook are just for getting the data and visualizing the results. "
   ]
  },
  {
   "cell_type": "code",
   "execution_count": 45,
   "metadata": {},
   "outputs": [],
   "source": [
    "from rnn import RNN\n",
    "from lstm import LSTM\n",
    "from gru import GRU\n",
    "from activation import *\n",
    "from utils import *\n",
    "\n",
    "import numpy as np\n",
    "import time\n",
    "import matplotlib.pyplot as plt\n",
    "%matplotlib inline\n",
    "\n",
    "from keras.datasets import imdb"
   ]
  },
  {
   "attachments": {},
   "cell_type": "markdown",
   "metadata": {},
   "source": [
    "### One-Hot Encoding\n",
    "To represent words as numerical values, we can represent each word as a vector with a 1 in the index that identifies the word and 0s elsewhere. For example, if you were a baby and only knew the words \"goo\" and \"ga\". We can use 0 to represent the \"goo\" and 1 for \"ga\". Then the phrase \"goo goo ga ga\" would look something like:"
   ]
  },
  {
   "cell_type": "code",
   "execution_count": 14,
   "metadata": {},
   "outputs": [
    {
     "data": {
      "text/plain": [
       "[0, 0, 1, 1]"
      ]
     },
     "execution_count": 14,
     "metadata": {},
     "output_type": "execute_result"
    }
   ],
   "source": [
    "vocab = {'goo' : 0, 'ga' : 1}\n",
    "phrase = ['goo', 'goo', 'ga', 'ga']\n",
    "\n",
    "[vocab[x] for x in phrase]"
   ]
  },
  {
   "attachments": {},
   "cell_type": "markdown",
   "metadata": {},
   "source": [
    "The one-hot encoding would look something like:"
   ]
  },
  {
   "cell_type": "code",
   "execution_count": 13,
   "metadata": {},
   "outputs": [
    {
     "data": {
      "text/plain": [
       "array([[1., 0.],\n",
       "       [1., 0.],\n",
       "       [0., 1.],\n",
       "       [0., 1.]])"
      ]
     },
     "execution_count": 13,
     "metadata": {},
     "output_type": "execute_result"
    }
   ],
   "source": [
    "seq = np.zeros((len(phrase), 2))\n",
    "\n",
    "for i, word in enumerate(phrase):\n",
    "    seq[i][vocab[word]] = 1\n",
    "\n",
    "seq"
   ]
  },
  {
   "attachments": {},
   "cell_type": "markdown",
   "metadata": {},
   "source": [
    "## RNN\n",
    "RNNs are a class of neural networks that allow previous outputs to be used as inputs. Unlike traditional feedforward neural networks that operate on a fixed-sized input, RNNs have a feedback loop that allows them to operate on inputs of variable length. This loop enables RNNs to allow information to persist or retain a memory of the previous inputs, making it particularly useful for tasks such as language modeling, machine translation, and speech recognition."
   ]
  },
  {
   "attachments": {},
   "cell_type": "markdown",
   "metadata": {},
   "source": [
    "<div>\n",
    "<img src=\"https://stanford.edu/~shervine/teaching/cs-230/illustrations/architecture-rnn-ltr.png?9ea4417fc145b9346a3e288801dbdfdc\" width=\"800\"/>\n",
    "</div>\n",
    "\n",
    "All images from taken from [here](https://stanford.edu/~shervine/teaching/cs-230/cheatsheet-recurrent-neural-networks).\n",
    "\n",
    "RNNs have hidden states, which refer to the memory of the network,  that serves as a summary of the information seen by the network up to that point in time.\n",
    "\n",
    "There are different types of RNN models used for different types of natural language processing tasks. For example, if we wanted to do something like named-entity recognition, we would use a \"many-to-many\" model, where we would need to compute the output at each time step.\n",
    "\n",
    "<div>\n",
    "<img src=\"https://stanford.edu/~shervine/teaching/cs-230/illustrations/rnn-many-to-many-same-ltr.png?2790431b32050b34b80011afead1f232\" width=\"600\"/>\n",
    "</div>\n",
    "\n",
    "For this notebook, we are focused on sentiment classification, so we only care about the output at the last time step. The type of model used for this is called a \"many-to-one\" model. \n",
    "\n",
    "<div>\n",
    "<img src=\"https://stanford.edu/~shervine/teaching/cs-230/illustrations/rnn-many-to-one-ltr.png?c8a442b3ea9f4cb81f929c089b910c9d\" width=\"600\"/>\n",
    "</div>"
   ]
  },
  {
   "attachments": {},
   "cell_type": "markdown",
   "metadata": {},
   "source": [
    "### The Base Class\n",
    "The four main methods that will be used when implementing neural networks like the RNN are:\n",
    "- `forward` function: forward propagate through the model\n",
    "- `backward` function: back propagate through the model\n",
    "- `loss` function: computes the loss of the model\n",
    "- `optimize` function: updating the parameters"
   ]
  },
  {
   "cell_type": "code",
   "execution_count": null,
   "metadata": {},
   "outputs": [],
   "source": [
    "class BaseModel:\n",
    "    def __init__(self, input_dim, output_dim, hidden_dim):\n",
    "        \"\"\"\n",
    "        Initialize model.\n",
    "        \"\"\"\n",
    "\n",
    "    def forward(self, X):\n",
    "        \"\"\"\n",
    "        This is where forward propagation should happen.\n",
    "        \"\"\"\n",
    "    \n",
    "    def backward(self, X, Y, Y_hat):\n",
    "        \"\"\"\n",
    "        This is where back propagation should happen.\n",
    "        \"\"\"\n",
    "    \n",
    "    def loss(self, Y, Y_hat):\n",
    "        \"\"\"\n",
    "        Compute the loss of the model.\n",
    "        \"\"\"\n",
    "    \n",
    "    def optimize(self):\n",
    "        \"\"\"\n",
    "        This is where the parameters are updated.\n",
    "        \"\"\""
   ]
  },
  {
   "attachments": {},
   "cell_type": "markdown",
   "metadata": {},
   "source": [
    "### Activation Functions\n",
    "Activation functions are functions used in neural networks that introduce non-linearity into the output of a neural network node. These functions functions are applied to the weighted sum of inputs and biases to calculate the output of a node. The output of the activation function is used to determine whether the node should be activated or not.\n",
    "\n",
    "Common activation functions used in RNNS are: \n",
    "\n",
    "| Sigmoid | Tanh | ReLU |\n",
    "| --- | --- | --- |\n",
    "| $g(z) = \\frac{1}{1 + e^{-z}}$ | $g(z) = \\frac{e^z - e^{-z}}{e^z + e^{-z}}$ | $g(z) = \\max(0,z)$ |\n",
    "|<div><img src=\"https://stanford.edu/~shervine/teaching/cs-229/illustrations/sigmoid.png?c91b6e5a7d4e78e95880bcf4e39889df\" width=\"200\"/></div>|<img src=\"https://stanford.edu/~shervine/teaching/cs-229/illustrations/tanh.png?22ac27f27c510c6414e8a3bb4aca2d80\" width=\"200\"/></div> |<img src=\"https://stanford.edu/~shervine/teaching/cs-229/illustrations/relu.png?6c1d78551355db5c6e4f6f8b5282cfa8\" width=\"200\"/></div>|\n",
    "\n",
    "In this implementation, we will be using the sigmoid and tanh activation functions. Since this notebook focuses on using the RNN for sentiment classifcation, we also use the softmax activation function to get a probability distribution for each of the classes given as:\n",
    "$$\\sigma(z)_i = \\frac{e^{z_i}}{\\sum_{i=1}^{K} e^{z_j}}$$\n",
    "where $K$ is the number of classes we have."
   ]
  },
  {
   "cell_type": "code",
   "execution_count": 20,
   "metadata": {},
   "outputs": [],
   "source": [
    "softmax = Softmax() # softmax activation function\n",
    "sigmoid = Sigmoid() # sigmoid activation function \n",
    "tanh = Tanh()       # tanh activation function"
   ]
  },
  {
   "attachments": {},
   "cell_type": "markdown",
   "metadata": {},
   "source": [
    "### Initialization\n",
    "The `input_dim` for the RNN will be the size of our vocabulary, the `hidden_dim` refers to the number of hidden units we want, and the `output_dim` will be the number of classes.\n",
    "\n",
    "The RNN has coefficients: \n",
    "- $W_{ax}$: weight matrix corresponding to the input to hidden state\n",
    "- $W_{aa}$: weight matrix for previous hidden to  current hidden state (recurrent computation)\n",
    "- $W_{ya}$: weight matrix corresponding to the hidden state to the output\n",
    "- $b_{a}$: bias for hidden\n",
    "- $b_{y}$: bias for output\n",
    "\n",
    "We also keep track of the gradients for each parameter which will be used during the `backward` step.\n",
    "\n",
    "Instead of making everything zero, we randomly initialize the weights. By doing so, we make sure the each hidden unit computes a different function and receives a different update during backpropagation, which improves the model's ability to learn."
   ]
  },
  {
   "cell_type": "code",
   "execution_count": 5,
   "metadata": {},
   "outputs": [],
   "source": [
    "P = {} # parameters\n",
    "G = {} # gradients\n",
    "\n",
    "def init(self, input_dim, output_dim, hidden_dim, learning_rate=.1, type='many-to-one'):\n",
    "    dlen = np.sqrt(hidden_dim) # used to normalize weights\n",
    "    \n",
    "    # initialize parameters\n",
    "    P['W_ax'] = np.random.randn(hidden_dim, input_dim) / dlen    # weight matrix (input to hidden state)\n",
    "    P['W_aa'] = np.random.randn(hidden_dim, hidden_dim) / dlen   # weight matrix (recurrent, hidden to hidden)\n",
    "    P['W_ya'] = np.random.randn(output_dim, hidden_dim) / dlen   # weight matrix (hidden to output)\n",
    "    \n",
    "    P['b_a'] = np.zeros((hidden_dim, 1))                         # bias (hidden)\n",
    "    P['b_y'] = np.zeros((output_dim, 1))                         # bias (output)\n",
    "\n",
    "    # initialize hidden state\n",
    "    hidden = np.zeros((self.hidden_dim, 1))        "
   ]
  },
  {
   "attachments": {},
   "cell_type": "markdown",
   "metadata": {},
   "source": [
    "### Forward Pass\n",
    "During the forward pass of the RNN, the actvation $a^{<t>}$ and output $y^{<t>}$ are computed as:\n",
    "\n",
    "$$a^{<t>} = g_1(W_{aa}a^{<t-1>} + W_{ax}x^{<t>} + b_a),~ y^{<t>} = g_2(W_{ya}a^{<t>} + b_y)$$\n",
    "\n",
    "for each time step, where $g_1$ and $g_2$ are activation functions.\n",
    "<div>\n",
    "<img src=\"https://stanford.edu/~shervine/teaching/cs-230/illustrations/description-block-rnn-ltr.png?74e25518f882f8758439bcb3637715e5\" width=\"700\"/>\n",
    "</div>\n",
    "\n",
    "In a \"many-to-many\" RNN, we return the output at each time step, but for sentiment classification (\"many-to-one\"), we just return the last output."
   ]
  },
  {
   "cell_type": "code",
   "execution_count": 4,
   "metadata": {},
   "outputs": [],
   "source": [
    "# keep track of hidden states and outputs\n",
    "hidden_states = []\n",
    "outputs = [] \n",
    "\n",
    "def forward(self, X):\n",
    "    # iterate through each element in the input vector\n",
    "    for t in range(len(X)):\n",
    "        # compute new hidden state\n",
    "        hidden = tanh(np.dot(P['W_aa'], hidden) + np.dot(P['W_ax'], X[t]) + P['b_a'])\n",
    "\n",
    "        # compute output\n",
    "        y = softmax(np.dot(P['W_ya'], hidden) + P['b_y'])\n",
    "\n",
    "        # store output and hidden state\n",
    "        hidden_states.append(hidden.copy())\n",
    "        outputs.append(y)"
   ]
  },
  {
   "attachments": {},
   "cell_type": "markdown",
   "metadata": {},
   "source": [
    "### Loss Function\n",
    "Before we backpropagate through the RNN, we must first compute the loss of the predicted output and the actual output. For classification, we will use the cross-entropy loss function defined as:\n",
    "$$\\mathcal{L}(y,\\hat{y}) = -\\sum_{i=1}^{n}y_i\\log(\\hat{y}_i)$$\n",
    "and the gradient is calculated as:\n",
    "$$\\frac{\\partial \\mathcal{L}}{\\partial o_i} = \\hat{y}_i - y_i$$\n"
   ]
  },
  {
   "attachments": {},
   "cell_type": "markdown",
   "metadata": {},
   "source": [
    "### Backpropagation\n",
    "In order to minimize the loss of the model, we compute the gradient of the loss function with respect to the weights of the network. These gradients are calculated through the chain rule method.\n"
   ]
  },
  {
   "cell_type": "code",
   "execution_count": null,
   "metadata": {},
   "outputs": [],
   "source": [
    "loss_function = CELoss()\n",
    "\n",
    "def backward(self, X, Y, Y_hat):\n",
    "        da_next = np.zeros_like(hidden_states[0]) # keeps track of derivative for next hidden state\n",
    "\n",
    "        # compute the loss\n",
    "        loss = loss_function(Y, Y_hat)\n",
    "        # compute the gradient of the loss w.r.t output\n",
    "        dy = loss_function.derivative()\n",
    "        \n",
    "        # go through hidden layers and update gradients\n",
    "        for t in reversed(range(len(hidden_states))):\n",
    "            # update gradients for output weights and bias\n",
    "            G['dW_ya'] += np.dot(dy, hidden_states[t].T)\n",
    "            G['db_y'] += dy\n",
    "\n",
    "            # compute gradient for hidden state\n",
    "            da = np.dot(P['W_ya'].T, dy) + da_next \n",
    "\n",
    "            # update gradients for hidden weights and bias\n",
    "            dtanh = tanh.derivative(hidden_states[t])*da\n",
    "            G['db_a'] += dtanh\n",
    "            G['dW_ax'] += np.dot(dtanh, X[t].T)\n",
    "            G['dW_aa'] += np.dot(dtanh, hidden_states[t-1].T)\n",
    "\n",
    "            # update gradient for next hidden state\n",
    "            da_next = np.dot(P['W_aa'].T, dtanh)\n",
    "\n",
    "        # clip gradients\n",
    "        clip_gradients(G)"
   ]
  },
  {
   "attachments": {},
   "cell_type": "markdown",
   "metadata": {},
   "source": [
    "#### Gradient Clipping\n",
    "Because RNNs can get quite long, during backpropagation, the gradient values can become too large, causing the weights to update too much. This can lead to numerical instability and failure to converge. Clipping the gradients sets a maximum threshold for the gradient values, allowing for stable updates to the weights.\n",
    "\n",
    "<div>\n",
    "<img src=\"https://stanford.edu/~shervine/teaching/cs-230/illustrations/gradient-clipping-en.png?6c3de441dc56aad634dc1a91accb48f2\" width=\"500\"/>\n",
    "</div>"
   ]
  },
  {
   "attachments": {},
   "cell_type": "markdown",
   "metadata": {},
   "source": [
    "### Optimization\n",
    "After calculating the gradients the parameters of the model need to be adjusted inorder to minimize the loss. The end goal is to find the set of parameters that result in the best performance. In this implementation, we will use the Stochastic Gradient Descent (SGD) optimizer, with the update rule given by:\n",
    "\n",
    "$$\\theta_i := \\theta_i - \\eta \\frac{\\partial\\mathcal{L}}{\\partial \\theta_i}$$\n",
    "\n",
    "where $\\eta$ is the learning rate."
   ]
  },
  {
   "attachments": {},
   "cell_type": "markdown",
   "metadata": {},
   "source": [
    "## LSTM\n",
    "Sometimes information from earlier time steps need to be carried forward in order to make accurate predictions at later time steps. This is called “long-term dependencies'', and while RNNs are capable of handling them, in practice they tend to struggle with “long-term dependencies.” Like exploding gradients, RNNs also suffer from the vanishing gradient problem where the values of the gradients become too small to work with.\n",
    "\n",
    "In order to deal with this, specific gates are used in variants of the RNN, denoted as\n",
    "$$\\Gamma = \\sigma(Wx^{<t>} + Ua^{<t-1>} + b)$$\n",
    "\n",
    "where $W,U,b$ are coefficients specific to the gate and $\\sigma$ is the sigmoid function.\n",
    "\n",
    "LSTM (long short-term memory) networks are a variant of RNNs, which has an additional memory cell state that stores information over time  or long-term memory. The hidden state of the LSTM refers to the short-term memory\n",
    "\n",
    "The LSTM consists of four gates:\n",
    "- Forget gate: controls whether to \"forget\"/erase data from the cell\n",
    "- Input gate: controls the amount of new information that enters the cell\n",
    "- Candidate gate: controls what data to write to the cell\n",
    "- Output gate: controls what data to pass as the output hidden state\n",
    "\n",
    "<div>\n",
    "<img src=\"https://stanford.edu/~shervine/teaching/cs-230/illustrations/lstm-ltr.png?4539fbbcbd9fabfd365936131c13476c\" width=\"500\"/>\n",
    "</div>"
   ]
  },
  {
   "attachments": {},
   "cell_type": "markdown",
   "metadata": {},
   "source": [
    "### Forward Pass\n",
    "The states of the LSTM are calculated as:\n",
    "- $f_t=\\sigma\\left(W_f x_{t}+U_f h_{t-1}+b_f\\right)$ (forget gate)\n",
    "- $i_t=\\sigma\\left(W_i x_t+U_i h_{t-1}+b_i\\right)$ (input gate)\n",
    "- $o_t=\\sigma\\left(W_o x_{t}+U_o h_{t-1}+b_o\\right)$ (output gate)\n",
    "- $\\widetilde{c}_t=\\tanh \\left(W_c x_{t}+U_c h_{t-1}+b_c\\right)$ (cell candidate)\n",
    "- $c_t=f_t \\circ c_{t-1}+i_t \\circ \\widetilde{c}_t$ (cell state)\n",
    "- $h_t=o_t \\circ \\tanh \\left(c_t\\right)$ (hidden state)\n",
    "\n",
    "look at the code"
   ]
  },
  {
   "attachments": {},
   "cell_type": "markdown",
   "metadata": {},
   "source": [
    "### Backpropagation\n",
    "look at the code."
   ]
  },
  {
   "attachments": {},
   "cell_type": "markdown",
   "metadata": {},
   "source": [
    "## GRU\n",
    "A more simple alternative to LSTM networks is the GRU (gated recurrent unit) network. The GRU does not have an output gate, and combines the input and forget gate into a single update gate. This update gate determines the amount of previous information that will be passed on. It also introduces a new gate called the reset gate, which decides how much of the past information is neglected.\n",
    "\n",
    "<div>\n",
    "<img src=\"https://stanford.edu/~shervine/teaching/cs-230/illustrations/gru-ltr.png?00f278f71b4833d32a87ed53d86f251c\" width=\"500\"/>\n",
    "</div> "
   ]
  },
  {
   "attachments": {},
   "cell_type": "markdown",
   "metadata": {},
   "source": [
    "### Forward Pass\n",
    "The states of the GRU are calculated as:\n",
    "- $u_t =\\sigma_g\\left(W_u x_t+U_u h_{t-1}+b_u\\right)$ (update gate)\n",
    "- $r_t =\\sigma_g\\left(W_r x_t+U_r h_{t-1}+b_r\\right)$ (reset gate)\n",
    "- $\\widetilde{h}_t =\\phi_h\\left(W_h x_t+U_h\\left(r_t \\odot h_{t-1}\\right)+b_h\\right)$ (candidate)\n",
    "- $h_t =\\left(1-z_t\\right) \\odot h_{t-1}+z_t \\odot \\widetilde{h}_t$ (hidden)"
   ]
  },
  {
   "attachments": {},
   "cell_type": "markdown",
   "metadata": {},
   "source": [
    "## Evaluation on IMDB Dataset\n",
    "To test and compare the models we will use the IMDB Movie Reviews Dataset. The dataset consists of 25,000 movie reviews from IMDB, labeled by sentiment (positive/negative), and the words are indexed by overall frequency in the dataset e.g. `3` encodes the third most frequent word."
   ]
  },
  {
   "cell_type": "code",
   "execution_count": 46,
   "metadata": {},
   "outputs": [],
   "source": [
    "(X_train, y_train), (X_test, y_test) = imdb.load_data() # get the data\n",
    "\n",
    "word_index = imdb.get_word_index()\n",
    "index_to_word = dict([(value,key) for (key,value) in word_index.items()])"
   ]
  },
  {
   "attachments": {},
   "cell_type": "markdown",
   "metadata": {},
   "source": [
    "an example:"
   ]
  },
  {
   "cell_type": "code",
   "execution_count": 47,
   "metadata": {},
   "outputs": [
    {
     "name": "stdout",
     "output_type": "stream",
     "text": [
      " this film was just brilliant casting location scenery story direction everyone's really suited the part they played and you could just imagine being there robert redford's is an amazing actor and now the same being director norman's father came from the same scottish island as myself so i loved the fact there was a real connection with this film the witty remarks throughout the film were great it was just brilliant so much that i bought the film as soon as it was released for retail and would recommend it to everyone to watch and the fly fishing was amazing really cried at the end it was so sad and you know what they say if you cry at a film it must have been good and this definitely was also congratulations to the two little boy's that played the part's of norman and paul they were just brilliant children are often left out of the praising list i think because the stars that play them all grown up are such a big profile for the whole film but these children are amazing and should be praised for what they have done don't you think the whole story was so lovely because it was true and was someone's life after all that was shared with us all\n"
     ]
    }
   ],
   "source": [
    "def decode(input):\n",
    "    sentence = []\n",
    "    for i in input:\n",
    "        sentence.append(index_to_word.get(i-3, ''))\n",
    "    print(\" \".join(sentence))\n",
    "    return sentence\n",
    "\n",
    "decode(X_train[0]);"
   ]
  },
  {
   "attachments": {},
   "cell_type": "markdown",
   "metadata": {},
   "source": [
    "### Preprocessing\n",
    "Because RNNs can be very slow, especially when dealing with longer sequences, we will only use a small portion of the vocabulary and very small portion of the dataset. Do note that there are ways to speed up computation like parallel processing.\n",
    "\n",
    "To make sure we sure the model does not get biased towards one class, we get a fair split of positive and negative examples."
   ]
  },
  {
   "cell_type": "code",
   "execution_count": 94,
   "metadata": {},
   "outputs": [],
   "source": [
    "num_examples = 100 # number of examples used\n",
    "half = int(num_examples/2)\n",
    "\n",
    "indx = np.zeros(num_examples, dtype=np.int8) # indices to look at\n",
    "test = np.array([1,2,3])\n",
    "\n",
    "pos_count, neg_count = 0, 0\n",
    "\n",
    "for i, y in enumerate(y_train):\n",
    "    if y == 0 and pos_count < half:\n",
    "        # positive found, increment positive\n",
    "        indx[pos_count] = int(i) \n",
    "        pos_count += 1\n",
    "    elif y == 1 and neg_count < half:\n",
    "        # negative found, increment negative\n",
    "        indx[neg_count+half] = int(i)\n",
    "        neg_count += 1\n",
    "    elif pos_count >= half and neg_count >= half:\n",
    "        break\n",
    "    else:\n",
    "        continue\n",
    "\n",
    "\n",
    "X_small, y_small = X_train[indx], y_train[indx]"
   ]
  },
  {
   "attachments": {},
   "cell_type": "markdown",
   "metadata": {},
   "source": [
    "The most frequent appearing words are pretty useless and will probably not help the model so we will ignore them."
   ]
  },
  {
   "cell_type": "code",
   "execution_count": 176,
   "metadata": {},
   "outputs": [
    {
     "name": "stdout",
     "output_type": "stream",
     "text": [
      "the\n",
      "and\n",
      "a\n",
      "of\n",
      "to\n",
      "is\n",
      "br\n",
      "in\n",
      "it\n",
      "i\n"
     ]
    }
   ],
   "source": [
    "for i in range(10):\n",
    "    print(index_to_word[i+1])"
   ]
  },
  {
   "cell_type": "code",
   "execution_count": 95,
   "metadata": {},
   "outputs": [],
   "source": [
    "vocab_size = 50\n",
    "def remove_unwanted(lst, min=10, max=vocab_size):\n",
    "    \"\"\"\n",
    "    Remove unwanted words.\n",
    "    \"\"\"\n",
    "    new = []\n",
    "    for x in lst:\n",
    "        # word index cutoff\n",
    "        if x - 3 > min and x < max+min:\n",
    "            new.append(x-min)\n",
    "    return new\n",
    "\n",
    "X_small = [remove_unwanted(x) for x in X_small]"
   ]
  },
  {
   "attachments": {},
   "cell_type": "markdown",
   "metadata": {},
   "source": [
    "Converting the words to vectors."
   ]
  },
  {
   "cell_type": "code",
   "execution_count": 96,
   "metadata": {},
   "outputs": [
    {
     "data": {
      "text/plain": [
       "(32, 50, 1)"
      ]
     },
     "execution_count": 96,
     "metadata": {},
     "output_type": "execute_result"
    }
   ],
   "source": [
    "def one_hot_x(X, size=vocab_size):\n",
    "    \"\"\"\n",
    "    One-hot encoding for the input data.\n",
    "    \"\"\"\n",
    "    ret = [None] * len(X)\n",
    "    # go through each movie review\n",
    "    for i, seq in enumerate(X):\n",
    "        xx = np.zeros((len(seq), size, 1))\n",
    "        # go through each sequence\n",
    "        for j, val in enumerate(seq):\n",
    "            xx[j][val] = 1 # set word index to 1\n",
    "        ret[i] = xx # add to list\n",
    "    \n",
    "    return ret\n",
    "\n",
    "def one_hot_y(Y, num_class=2):\n",
    "    \"\"\"\n",
    "    One-hot encoding for the output data.\n",
    "    \"\"\"\n",
    "    ret = [None] * Y.size\n",
    "    # go through each classification\n",
    "    for i, val in enumerate(Y):\n",
    "        y = np.zeros((num_class, 1))\n",
    "        y[val] = 1 # set value to 1\n",
    "        ret[i] = y # add to list\n",
    "    \n",
    "    return ret\n",
    "\n",
    "x_input = one_hot_x(X_small)\n",
    "y_input = one_hot_y(y_small)\n",
    "x_input[0].shape"
   ]
  },
  {
   "attachments": {},
   "cell_type": "markdown",
   "metadata": {},
   "source": [
    "### Training"
   ]
  },
  {
   "cell_type": "code",
   "execution_count": null,
   "metadata": {},
   "outputs": [],
   "source": [
    "np.random.seed(42) # set random seed for replication"
   ]
  },
  {
   "attachments": {},
   "cell_type": "markdown",
   "metadata": {},
   "source": [
    "Training the RNN Model."
   ]
  },
  {
   "cell_type": "code",
   "execution_count": 145,
   "metadata": {},
   "outputs": [
    {
     "name": "stdout",
     "output_type": "stream",
     "text": [
      "Epoch 0, training loss: 36.096146821318705\n",
      "Epoch 5, training loss: 35.944958743287344\n",
      "Epoch 10, training loss: 35.865672646366825\n",
      "Epoch 15, training loss: 35.824320577752104\n"
     ]
    }
   ],
   "source": [
    "num_epochs = 17\n",
    "RNN_Model = RNN(input_dim=vocab_size, hidden_dim=15, output_dim=2, learning_rate=1e-4)\n",
    "RNN_loss = RNN_Model.fit(x_input, y_input, num_epochs)"
   ]
  },
  {
   "attachments": {},
   "cell_type": "markdown",
   "metadata": {},
   "source": [
    "Training the LSTM Model."
   ]
  },
  {
   "cell_type": "code",
   "execution_count": 170,
   "metadata": {},
   "outputs": [
    {
     "name": "stdout",
     "output_type": "stream",
     "text": [
      "Epoch 0, training loss: 35.03202848942975\n",
      "Epoch 5, training loss: 34.88303149085208\n",
      "Epoch 10, training loss: 34.86923786003565\n",
      "Epoch 15, training loss: 34.71723461717235\n"
     ]
    }
   ],
   "source": [
    "LSTM_Model = LSTM(input_dim=vocab_size, hidden_dim=15, output_dim=2, learning_rate=2.8e-3)\n",
    "LSTM_loss = LSTM_Model.fit(x_input, y_input, num_epochs)"
   ]
  },
  {
   "attachments": {},
   "cell_type": "markdown",
   "metadata": {},
   "source": [
    "Training the GRU Model."
   ]
  },
  {
   "cell_type": "code",
   "execution_count": 161,
   "metadata": {},
   "outputs": [
    {
     "name": "stdout",
     "output_type": "stream",
     "text": [
      "Epoch 0, training loss: 35.99295761260045\n",
      "Epoch 5, training loss: 35.505573024038995\n",
      "Epoch 10, training loss: 35.45425231403333\n",
      "Epoch 15, training loss: 35.460536879621\n"
     ]
    }
   ],
   "source": [
    "GRU_Model = GRU(input_dim=vocab_size, hidden_dim=15, output_dim=2, learning_rate=3e-4)\n",
    "GRU_loss = GRU_Model.fit(x_input, y_input, num_epochs)"
   ]
  },
  {
   "attachments": {},
   "cell_type": "markdown",
   "metadata": {},
   "source": [
    "### Evaluation\n",
    "Comparing Model Loss."
   ]
  },
  {
   "cell_type": "code",
   "execution_count": 171,
   "metadata": {},
   "outputs": [
    {
     "data": {
      "image/png": "[encoded data removed]",
      "text/plain": [
       "<Figure size 432x288 with 1 Axes>"
      ]
     },
     "metadata": {
      "needs_background": "light"
     },
     "output_type": "display_data"
    }
   ],
   "source": [
    "x = range(1, num_epochs+1)\n",
    "plt.plot(x, RNN_loss, label ='rnn')\n",
    "plt.plot(x, LSTM_loss, label ='lstm')\n",
    "plt.plot(x, GRU_loss, label ='gru')\n",
    "\n",
    "plt.xlabel(\"epochs\")\n",
    "plt.ylabel(\"loss\")\n",
    "plt.legend()\n",
    "plt.show()"
   ]
  },
  {
   "cell_type": "code",
   "execution_count": 214,
   "metadata": {},
   "outputs": [
    {
     "data": {
      "image/png": "[encoded data removed]",
      "text/plain": [
       "<Figure size 432x288 with 1 Axes>"
      ]
     },
     "metadata": {
      "needs_background": "light"
     },
     "output_type": "display_data"
    }
   ],
   "source": [
    "x = range(1,16)\n",
    "plt.plot(x, RNN_loss, label ='rnn')\n",
    "plt.plot(x, LSTM_loss, label ='lstm')\n",
    "plt.plot(x, GRU_loss, label ='gru')\n",
    "\n",
    "plt.xlabel(\"epochs\")\n",
    "plt.ylabel(\"loss\")\n",
    "plt.legend()\n",
    "plt.show()"
   ]
  },
  {
   "attachments": {},
   "cell_type": "markdown",
   "metadata": {},
   "source": [
    "Comparing the time taken."
   ]
  },
  {
   "cell_type": "code",
   "execution_count": 28,
   "metadata": {},
   "outputs": [
    {
     "data": {
      "image/png": "[encoded data removed]",
      "text/plain": [
       "<Figure size 432x288 with 1 Axes>"
      ]
     },
     "metadata": {
      "needs_background": "light"
     },
     "output_type": "display_data"
    }
   ],
   "source": [
    "sizes = [10, 20, 50, 100, 200, 500, 1000]\n",
    "model_times= [[], [], []]\n",
    "\n",
    "(X_tiny, y_tiny) = (X_train[0:10], y_train[0:10])\n",
    "y_test = one_hot_y(y_tiny)\n",
    "\n",
    "for s in sizes:\n",
    "    X_test = [remove_unwanted(x, min=1, max=s) for x in X_tiny.copy()]\n",
    "    X_test = one_hot_x(X_test, size=s)\n",
    "\n",
    "    RNN_test = RNN(input_dim=s, hidden_dim=s, output_dim=2)\n",
    "    LSTM_test = LSTM(input_dim=s, hidden_dim=s, output_dim=2)\n",
    "    GRU_test = GRU(input_dim=s, hidden_dim=s, output_dim=2)\n",
    "\n",
    "    models = [RNN_test, LSTM_test, GRU_test]\n",
    "\n",
    "    for i, model in enumerate(models):\n",
    "        start = time.time()\n",
    "        model.fit(X_test, y_test, num_epochs=1, print_flag=False)\n",
    "        end = time.time() # calculate time taken\n",
    "        model_times[i].append(end - start) # add to list\n",
    "\n",
    "plt.plot(sizes, model_times[0], label ='rnn')\n",
    "plt.plot(sizes, model_times[1], label ='lstm')\n",
    "plt.plot(sizes, model_times[2], label ='gru')\n",
    "\n",
    "plt.xlabel(\"input dimension\")\n",
    "plt.ylabel(\"time (seconds)\")\n",
    "plt.legend()\n",
    "plt.show()"
   ]
  }
 ],
 "metadata": {
  "kernelspec": {
   "display_name": "Python 3",
   "language": "python",
   "name": "python3"
  },
  "language_info": {
   "codemirror_mode": {
    "name": "ipython",
    "version": 3
   },
   "file_extension": ".py",
   "mimetype": "text/x-python",
   "name": "python",
   "nbconvert_exporter": "python",
   "pygments_lexer": "ipython3",
   "version": "3.9.7"
  },
  "orig_nbformat": 4
 },
 "nbformat": 4,
 "nbformat_minor": 2
}
