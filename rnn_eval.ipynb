{
 "cells": [
  {
   "attachments": {},
   "cell_type": "markdown",
   "metadata": {},
   "source": [
    "# RNN, LSTM, and GRU\n",
    "\n",
    "## Introduction\n",
    "This notebook contains some of the details for the implementation of Recurrent Neural Networks (RNNs) and two variants of it, the LSTM and GRU. To see the full implementation, see the source code [here](https://github.com/hongjos/rnn). Recurrent Neural Networks (RNNs) were introduced in the 1980s, with the aim of modeling sequences of data, such as text, music, and time series. However, early RNN models faced challenges with learning long-term dependencies, which limited their effectiveness. To deal with this, variants of the RNN were introduced later such as the LSTM and GRU.\n",
    "\n",
    "To test and compare implementations of the RNN, LSTM and GRU, we will use the [IMDB Movie Reviews dataset](https://keras.io/api/datasets/imdb/) for sentiment classification.\n",
    "\n",
    "This notebook just gives a standard implementation of the models to get a better understanding of them. You shouldn't actually use this implementation to do real life stuff. Instead, you should be using the ones from frameworks such as [PyTorch](https://pytorch.org/docs/stable/generated/torch.nn.RNN.html) or [TensorFlow](https://www.tensorflow.org/guide/keras/rnn).\n"
   ]
  },
  {
   "attachments": {},
   "cell_type": "markdown",
   "metadata": {},
   "source": [
    "## Prelims\n",
    "The implementation for the RNN will primarily use `numpy`. Other libraries used in this notebook are just for getting the data and visualizing the results. "
   ]
  },
  {
   "cell_type": "code",
   "execution_count": 45,
   "metadata": {},
   "outputs": [],
   "source": [
    "from rnn import RNN\n",
    "from lstm import LSTM\n",
    "from gru import GRU\n",
    "from activation import *\n",
    "\n",
    "import numpy as np\n",
    "import time\n",
    "import matplotlib.pyplot as plt\n",
    "%matplotlib inline\n",
    "\n",
    "from keras.datasets import imdb"
   ]
  },
  {
   "attachments": {},
   "cell_type": "markdown",
   "metadata": {},
   "source": [
    "### One-Hot Encoding\n",
    "To represent words as numerical values, we can represent each word as a vector with a 1 in the index that identifies the word and 0s elsewhere. For example, if you were a baby and only knew the words \"goo\" and \"ga\". We can use 0 to represent the \"goo\" and 1 for \"ga\". Then the phrase \"goo goo ga ga\" would look something like:"
   ]
  },
  {
   "cell_type": "code",
   "execution_count": 14,
   "metadata": {},
   "outputs": [
    {
     "data": {
      "text/plain": [
       "[0, 0, 1, 1]"
      ]
     },
     "execution_count": 14,
     "metadata": {},
     "output_type": "execute_result"
    }
   ],
   "source": [
    "vocab = {'goo' : 0, 'ga' : 1}\n",
    "phrase = ['goo', 'goo', 'ga', 'ga']\n",
    "\n",
    "[vocab[x] for x in phrase]"
   ]
  },
  {
   "attachments": {},
   "cell_type": "markdown",
   "metadata": {},
   "source": [
    "The one-hot encoding would look something like:"
   ]
  },
  {
   "cell_type": "code",
   "execution_count": 13,
   "metadata": {},
   "outputs": [
    {
     "data": {
      "text/plain": [
       "array([[1., 0.],\n",
       "       [1., 0.],\n",
       "       [0., 1.],\n",
       "       [0., 1.]])"
      ]
     },
     "execution_count": 13,
     "metadata": {},
     "output_type": "execute_result"
    }
   ],
   "source": [
    "seq = np.zeros((len(phrase), 2))\n",
    "\n",
    "for i, word in enumerate(phrase):\n",
    "    seq[i][vocab[word]] = 1\n",
    "\n",
    "seq"
   ]
  },
  {
   "attachments": {},
   "cell_type": "markdown",
   "metadata": {},
   "source": [
    "To test if the implementations are working as intended, we will fit the model to a very small dataset with 3 movie reviews for sentiment classification.\n",
    "\n",
    "| Review | Class |\n",
    "| --- | ---- |\n",
    "| this movie is good | Positive |\n",
    "| this movie is bad | Negative |\n",
    "| this movie is not good | Negative |\n",
    "\n",
    "Our test set will contain the review:\n",
    "\n",
    "| Review | Class |\n",
    "| --- | ---- |\n",
    "| this movie is not bad | Positive |\n",
    "\n",
    "0 will represent the positive sentiment class, and 1 for the negative."
   ]
  },
  {
   "cell_type": "code",
   "execution_count": 44,
   "metadata": {},
   "outputs": [
    {
     "name": "stdout",
     "output_type": "stream",
     "text": [
      "gru\n",
      "Epoch 0, training loss: 1.4734940115479362\n",
      "Epoch 5, training loss: 1.448855329560755\n",
      "Epoch 10, training loss: 1.4297479113173197\n",
      "Epoch 15, training loss: 1.414834835132407\n",
      "Epoch 20, training loss: 1.4035687885309955\n",
      "Epoch 25, training loss: 1.3948621207631315\n",
      "Epoch 30, training loss: 1.387832688090739\n",
      "Epoch 35, training loss: 1.3820360554777515\n",
      "Epoch 40, training loss: 1.3770664642755295\n",
      "Epoch 45, training loss: 1.372654934522736\n",
      "Epoch 50, training loss: 1.3686400863256596\n",
      "Epoch 55, training loss: 1.3648938231656542\n",
      "Epoch 60, training loss: 1.3613099302917944\n",
      "Epoch 65, training loss: 1.3577972678013346\n",
      "Epoch 70, training loss: 1.3542755133694055\n",
      "Epoch 75, training loss: 1.3506722763644232\n",
      "Epoch 80, training loss: 1.3469209210064943\n",
      "Epoch 85, training loss: 1.3429587523605966\n",
      "Epoch 90, training loss: 1.3387254098192511\n",
      "Epoch 95, training loss: 1.334161420977145\n",
      "Epoch 100, training loss: 1.3292069233788895\n",
      "Epoch 105, training loss: 1.3238005839972002\n",
      "Epoch 110, training loss: 1.3178787521411377\n",
      "Epoch 115, training loss: 1.3113748812570138\n",
      "Epoch 120, training loss: 1.304219254722426\n",
      "Epoch 125, training loss: 1.2963390526804341\n",
      "Epoch 130, training loss: 1.287665752929225\n",
      "Epoch 135, training loss: 1.2781408281726687\n",
      "Epoch 140, training loss: 1.2676785102864512\n",
      "Epoch 145, training loss: 1.2561695037056482\n",
      "Epoch 150, training loss: 1.243585227302664\n",
      "Epoch 155, training loss: 1.229888217998424\n",
      "Epoch 160, training loss: 1.2150223436054133\n",
      "Epoch 165, training loss: 1.1989428231918964\n",
      "Epoch 170, training loss: 1.1816200609442318\n",
      "Epoch 175, training loss: 1.163032816891143\n",
      "Epoch 180, training loss: 1.1431859344917443\n",
      "Epoch 185, training loss: 1.122205552475431\n",
      "Epoch 190, training loss: 1.1001577840825283\n",
      "Epoch 195, training loss: 1.077171559853173\n",
      "Epoch 200, training loss: 1.0533826669040387\n",
      "Epoch 205, training loss: 1.0289048161760546\n",
      "Epoch 210, training loss: 1.003880345470103\n",
      "Epoch 215, training loss: 0.9784192197459473\n",
      "Epoch 220, training loss: 0.9526371361888979\n",
      "Epoch 225, training loss: 0.926665571920284\n",
      "Epoch 230, training loss: 0.90062113358007\n",
      "Epoch 235, training loss: 0.8747065239126933\n",
      "Epoch 240, training loss: 0.8493604445906914\n",
      "Epoch 245, training loss: 0.8249187958934372\n",
      "Epoch 250, training loss: 0.8015749778035187\n",
      "Epoch 255, training loss: 0.7787564373523381\n",
      "Epoch 260, training loss: 0.7563805964054742\n",
      "Epoch 265, training loss: 0.734369441618335\n",
      "Epoch 270, training loss: 0.7126827047232768\n",
      "Epoch 275, training loss: 0.6913068120201765\n",
      "Epoch 280, training loss: 0.6702307270289235\n",
      "Epoch 285, training loss: 0.6494387112354979\n",
      "Epoch 290, training loss: 0.6289279868837074\n",
      "Epoch 295, training loss: 0.6087994739301924\n",
      "Epoch 300, training loss: 0.5886691179142652\n",
      "Epoch 305, training loss: 0.5687215941182008\n",
      "Epoch 310, training loss: 0.5491223616440472\n",
      "Epoch 315, training loss: 0.5298974172119062\n",
      "Epoch 320, training loss: 0.511071715300042\n",
      "Epoch 325, training loss: 0.49266857823998716\n",
      "Epoch 330, training loss: 0.47470873462419694\n",
      "Epoch 335, training loss: 0.457210290511864\n",
      "Epoch 340, training loss: 0.4401800515863294\n",
      "Epoch 345, training loss: 0.423507190328426\n",
      "Epoch 350, training loss: 0.40725204113429037\n",
      "Epoch 355, training loss: 0.39146158901401346\n",
      "Epoch 360, training loss: 0.37615821213195383\n",
      "Epoch 365, training loss: 0.36135911984180835\n",
      "Epoch 370, training loss: 0.3470785523300214\n",
      "Epoch 375, training loss: 0.3333279719040927\n",
      "Epoch 380, training loss: 0.32011602890919194\n",
      "Epoch 385, training loss: 0.30744852346361423\n",
      "Epoch 390, training loss: 0.29532839990726883\n",
      "Epoch 395, training loss: 0.28375578533114937\n",
      "Epoch 400, training loss: 0.2726899116103242\n",
      "Epoch 405, training loss: 0.26218473128953906\n",
      "Epoch 410, training loss: 0.25222227445815093\n",
      "Epoch 415, training loss: 0.2428071627719537\n",
      "Epoch 420, training loss: 0.23368428436477845\n",
      "Epoch 425, training loss: 0.224875142402754\n",
      "Epoch 430, training loss: 0.2164590277821266\n",
      "Epoch 435, training loss: 0.20842149176895441\n",
      "Epoch 440, training loss: 0.20074312644493858\n",
      "Epoch 445, training loss: 0.19340611640431626\n",
      "Epoch 450, training loss: 0.1863943746294332\n",
      "Epoch 455, training loss: 0.1796932344402568\n",
      "Epoch 460, training loss: 0.17328917258663779\n",
      "Epoch 465, training loss: 0.1671695915361424\n",
      "Epoch 470, training loss: 0.16132265256074088\n",
      "Epoch 475, training loss: 0.1557371495810275\n",
      "Epoch 480, training loss: 0.1504024150629027\n",
      "Epoch 485, training loss: 0.14530825073001988\n",
      "Epoch 490, training loss: 0.1404448771757987\n",
      "Epoch 495, training loss: 0.135802897602869\n"
     ]
    }
   ],
   "source": [
    "from rnn import RNN\n",
    "from lstm import LSTM\n",
    "from gru import GRU\n",
    "import numpy as np\n",
    "np.random.seed(42)\n",
    "\n",
    "vocab = {\"this\" : 0, \"movie\" : 1, \"is\" : 2, \"good\": 3, \"bad\" : 4, \"not\" : 5}\n",
    "vocab_size = 6\n",
    "\n",
    "xtrain_string = [\"this movie is good\", \"this movie is bad\", \"this movie is not good\", \"movie is good not bad\"]\n",
    "ytrain_val = [0, 1, 1, 0]\n",
    "xtest_string = [\"this movie is not bad\"]\n",
    "ytest_val = [0]\n",
    "\n",
    "xtrain, ytrain, xtest, ytest = [], [], [], []\n",
    "\n",
    "def one_hot_tx(lst, size=6):\n",
    "    \"\"\"\n",
    "    One-hot enconding for a list of strings sequences.\n",
    "    \"\"\"\n",
    "    ret = []\n",
    "\n",
    "    # go thru list and make string sequence into vectors\n",
    "    for s in lst:\n",
    "        seq = np.zeros((len(s.split()), size, 1))\n",
    "\n",
    "        # one-hot encode the sequence\n",
    "        for i,val in enumerate(s.split()):\n",
    "            seq[i][vocab[val]] = 1\n",
    "        ret.append(seq) # add to list\n",
    "        \n",
    "    return ret\n",
    "\n",
    "def one_hot_ty(lst, num_class=2):\n",
    "    \"\"\"\n",
    "    One-hot enconding for the classes.\n",
    "    \"\"\"\n",
    "    ret = []\n",
    "    # go thru list and make classes into vectors.\n",
    "    for x in lst:\n",
    "        vec = np.zeros((num_class, 1))\n",
    "        vec[x] = 1 # one-hot encode the class\n",
    "        ret.append(vec) # add to list\n",
    "    return ret\n",
    "\n",
    "\n",
    "xtrain, xtest = one_hot_tx(xtrain_string), one_hot_tx(xtest_string)\n",
    "ytrain, ytest = one_hot_ty(ytrain_val), one_hot_ty(ytest_val)\n",
    "\n",
    "eta = .05\n",
    "rnntest = RNN(input_dim=vocab_size, output_dim=2, hidden_dim=5, learning_rate=1e-3)\n",
    "lstmtest = LSTM(input_dim=vocab_size, output_dim=2, hidden_dim=5, learning_rate=2e-2)\n",
    "grutest = GRU(input_dim=vocab_size, output_dim=2, hidden_dim=5, learning_rate=.01)\n",
    "\n",
    "epochs = 500\n",
    "# print(\"rnn\")\n",
    "# rnntest.fit(xtrain, ytrain, num_epochs=epochs);\n",
    "\n",
    "\n",
    "# print(\"lstm\")\n",
    "# lstmtest.fit(xtrain, ytrain, num_epochs=epochs);\n",
    "\n",
    "\n",
    "print(\"gru\")\n",
    "grutest.fit(xtrain, ytrain, num_epochs=epochs);"
   ]
  },
  {
   "attachments": {},
   "cell_type": "markdown",
   "metadata": {},
   "source": [
    "## RNN\n",
    "RNNs are a class of neural networks that allow previous outputs to be used as inputs. Unlike traditional feedforward neural networks that operate on a fixed-sized input, RNNs have a feedback loop that allows them to operate on inputs of variable length. This loop enables RNNs to allow information to persist or retain a memory of the previous inputs, making it particularly useful for tasks such as language modeling, machine translation, and speech recognition."
   ]
  },
  {
   "attachments": {},
   "cell_type": "markdown",
   "metadata": {},
   "source": [
    "<div>\n",
    "<img src=\"https://stanford.edu/~shervine/teaching/cs-230/illustrations/architecture-rnn-ltr.png?9ea4417fc145b9346a3e288801dbdfdc\" width=\"800\"/>\n",
    "</div>\n",
    "\n",
    "All images from taken from [here](https://stanford.edu/~shervine/teaching/cs-230/cheatsheet-recurrent-neural-networks).\n",
    "\n",
    "RNNs have hidden states, which refer to the memory of the network,  that serves as a summary of the information seen by the network up to that point in time.\n",
    "\n",
    "There are different types of RNN models used for different types of natural language processing tasks. For example, if we wanted to do something like named-entity recognition, we would use a \"many-to-many\" model, where we would need to compute the output at each time step.\n",
    "\n",
    "<div>\n",
    "<img src=\"https://stanford.edu/~shervine/teaching/cs-230/illustrations/rnn-many-to-many-same-ltr.png?2790431b32050b34b80011afead1f232\" width=\"600\"/>\n",
    "</div>\n",
    "\n",
    "For this notebook, we are focused on sentiment classification, so we only care about the output at the last time step. The type of model used for this is called a \"many-to-one\" model. \n",
    "\n",
    "<div>\n",
    "<img src=\"https://stanford.edu/~shervine/teaching/cs-230/illustrations/rnn-many-to-one-ltr.png?c8a442b3ea9f4cb81f929c089b910c9d\" width=\"600\"/>\n",
    "</div>"
   ]
  },
  {
   "attachments": {},
   "cell_type": "markdown",
   "metadata": {},
   "source": [
    "### The Base Class\n",
    "The four main methods that will be used when implementing neural networks like the RNN are:\n",
    "- `forward` function: forward propagate through the model\n",
    "- `backward` function: back propagate through the model\n",
    "- `loss` function: computes the loss of the model\n",
    "- `optimize` function: updating the parameters"
   ]
  },
  {
   "cell_type": "code",
   "execution_count": null,
   "metadata": {},
   "outputs": [],
   "source": [
    "class BaseModel:\n",
    "    def __init__(self, input_dim, output_dim, hidden_dim):\n",
    "        \"\"\"\n",
    "        Initialize model.\n",
    "        \"\"\"\n",
    "\n",
    "    def forward(self, X):\n",
    "        \"\"\"\n",
    "        This is where forward propagation should happen.\n",
    "        \"\"\"\n",
    "    \n",
    "    def backward(self, X, Y, Y_hat):\n",
    "        \"\"\"\n",
    "        This is where back propagation should happen.\n",
    "        \"\"\"\n",
    "    \n",
    "    def loss(self, Y, Y_hat):\n",
    "        \"\"\"\n",
    "        Compute the loss of the model.\n",
    "        \"\"\"\n",
    "    \n",
    "    def optimize(self):\n",
    "        \"\"\"\n",
    "        This is where the parameters are updated.\n",
    "        \"\"\""
   ]
  },
  {
   "attachments": {},
   "cell_type": "markdown",
   "metadata": {},
   "source": [
    "### Activation Functions\n",
    "Activation functions are functions used in neural networks that introduce non-linearity into the output of a neural network node. These functions functions are applied to the weighted sum of inputs and biases to calculate the output of a node. The output of the activation function is used to determine whether the node should be activated or not.\n",
    "\n",
    "Common activation functions used in RNNS are: \n",
    "\n",
    "| Sigmoid | Tanh | ReLU |\n",
    "| --- | --- | --- |\n",
    "| $g(z) = \\frac{1}{1 + e^{-z}}$ | $g(z) = \\frac{e^z - e^{-z}}{e^z + e^{-z}}$ | $g(z) = \\max(0,z)$ |\n",
    "|<div><img src=\"https://stanford.edu/~shervine/teaching/cs-229/illustrations/sigmoid.png?c91b6e5a7d4e78e95880bcf4e39889df\" width=\"200\"/></div>|<img src=\"https://stanford.edu/~shervine/teaching/cs-229/illustrations/tanh.png?22ac27f27c510c6414e8a3bb4aca2d80\" width=\"200\"/></div> |<img src=\"https://stanford.edu/~shervine/teaching/cs-229/illustrations/relu.png?6c1d78551355db5c6e4f6f8b5282cfa8\" width=\"200\"/></div>|\n",
    "\n",
    "In this implementation, we will be using the sigmoid and tanh activation functions. Since this notebook focuses on using the RNN for sentiment classifcation, we also use the softmax activation function to get a probability distribution for each of the classes given as:\n",
    "$$\\sigma(z)_i = \\frac{e^{z_i}}{\\sum_{i=1}^{K} e^{z_j}}$$\n",
    "where $K$ is the number of classes we have."
   ]
  },
  {
   "cell_type": "code",
   "execution_count": 20,
   "metadata": {},
   "outputs": [],
   "source": [
    "softmax = Softmax() # softmax activation function\n",
    "sigmoid = Sigmoid() # sigmoid activation function \n",
    "tanh = Tanh()       # tanh activation function"
   ]
  },
  {
   "attachments": {},
   "cell_type": "markdown",
   "metadata": {},
   "source": [
    "### Initialization\n",
    "The `input_dim` for the RNN will be the size of our vocabulary, the `hidden_dim` refers to the number of hidden units we want, and the `output_dim` will be the number of classes.\n",
    "\n",
    "The RNN has coefficients: \n",
    "- $W_{ax}$: weight matrix corresponding to the input to hidden state\n",
    "- $W_{aa}$: weight matrix for previous hidden to  current hidden state (recurrent computation)\n",
    "- $W_{ya}$: weight matrix corresponding to the hidden state to the output\n",
    "- $b_{a}$: bias for hidden\n",
    "- $b_{y}$: bias for output\n",
    "\n",
    "We also keep track of the gradients for each parameter which will be used during the `backward` step.\n",
    "\n",
    "Instead of making everything zero, we randomly initialize the weights. By doing so, we make sure the each hidden unit computes a different function and receives a different update during backpropagation, which improves the model's ability to learn."
   ]
  },
  {
   "cell_type": "code",
   "execution_count": 5,
   "metadata": {},
   "outputs": [],
   "source": [
    "# init goes here"
   ]
  },
  {
   "attachments": {},
   "cell_type": "markdown",
   "metadata": {},
   "source": [
    "### Forward Pass\n",
    "During the forward pass of the RNN, the actvation $a^{<t>}$ and output $y^{<t>}$ are computed as:\n",
    "\n",
    "$$a^{<t>} = g_1(W_{aa}a^{<t-1>} + W_{ax}x^{<t>} + b_a),~ y^{<t>} = g_2(W_{ya}a^{<t>} + b_y)$$\n",
    "\n",
    "for each time step, where $g_1$ and $g_2$ are activation functions.\n",
    "<div>\n",
    "<img src=\"https://stanford.edu/~shervine/teaching/cs-230/illustrations/description-block-rnn-ltr.png?74e25518f882f8758439bcb3637715e5\" width=\"700\"/>\n",
    "</div>\n",
    "\n",
    "In a \"many-to-many\" RNN, we return the output at each time step, but for sentiment classification (\"many-to-one\"), we just return the last output."
   ]
  },
  {
   "cell_type": "code",
   "execution_count": 4,
   "metadata": {},
   "outputs": [],
   "source": [
    "# forward goes here"
   ]
  },
  {
   "attachments": {},
   "cell_type": "markdown",
   "metadata": {},
   "source": [
    "### Loss Function\n",
    "Before we backpropagate through the RNN, we must first compute the loss of the predicted output and the actual output. For classification, we will use the cross-entropy loss function defined as:\n",
    "$$\\mathcal{L}(y,\\hat{y}) = -\\sum_{i=1}^{n}y_i\\log(\\hat{y}_i)$$\n"
   ]
  },
  {
   "attachments": {},
   "cell_type": "markdown",
   "metadata": {},
   "source": [
    "### Backpropagation\n",
    "In order to minimize the loss of the model, we compute the gradient of the loss function with respect to the weights of the network. These gradients are calculated through the chain rule method."
   ]
  },
  {
   "attachments": {},
   "cell_type": "markdown",
   "metadata": {},
   "source": [
    "#### Gradient Clipping\n",
    "Because RNNs can get quite long, during backpropagation, the gradient values can become too large, causing the weights to update too much, which can lead to numerical instability and a failure to converge. Clipping the gradients sets a maximum threshold for the gradient values, allowing for stable updates to the weights.\n",
    "\n",
    "<div>\n",
    "<img src=\"https://stanford.edu/~shervine/teaching/cs-230/illustrations/gradient-clipping-en.png?6c3de441dc56aad634dc1a91accb48f2\" width=\"500\"/>\n",
    "</div>"
   ]
  },
  {
   "attachments": {},
   "cell_type": "markdown",
   "metadata": {},
   "source": [
    "### Optimization\n",
    "After calculating the gradients the parameters of the model need to be adjusted inorder to minimize the loss. The end goal is to find the set of parameters that result in the best performance. In this implementation, we will use the Stochastic Gradient Descent (SGD) optimizer, with the update rule given by:\n",
    "\n",
    "$$\\theta_i := \\theta_i - \\eta \\frac{\\partial\\mathcal{L}}{\\partial \\theta_i}$$\n",
    "\n",
    "where $\\eta$ is the learning rate."
   ]
  },
  {
   "attachments": {},
   "cell_type": "markdown",
   "metadata": {},
   "source": [
    "## LSTM\n",
    "Sometimes information from earlier time steps need to be carried forward in order to make accurate predictions at later time steps. This is called “long-term dependencies'', and while RNNs are capable of handling them, in practice they tend to struggle with “long-term dependencies.” Like exploding gradients, RNNs also suffer from the vanishing gradient problem where the values of the gradients become too small to work with.\n",
    "\n",
    "In order to deal with this, specific gates are used in variants of the RNN, denoted as\n",
    "$$\\Gamma = \\sigma(Wx^{<t>} + Ua^{<t-1>} + b)$$\n",
    "\n",
    "where $W,U,b$ are coefficients specific to the gate and $\\sigma$ is the sigmoid function.\n",
    "\n",
    "LSTM (long short-term memory) networks are a variant of RNNs, which has an additional memory cell state that stores information over time  or long-term memory. The hidden state of the LSTM refers to the short-term memory\n",
    "\n",
    "The LSTM consists of four gates:\n",
    "- Forget gate: controls whether to \"forget\"/erase data from the cell\n",
    "- Input gate: controls the amount of new information that enters the cell\n",
    "- Candidate gate: controls what data to write to the cell\n",
    "- Output gate: controls what data to pass as the output hidden state\n",
    "\n",
    "<div>\n",
    "<img src=\"https://stanford.edu/~shervine/teaching/cs-230/illustrations/lstm-ltr.png?4539fbbcbd9fabfd365936131c13476c\" width=\"500\"/>\n",
    "</div>"
   ]
  },
  {
   "attachments": {},
   "cell_type": "markdown",
   "metadata": {},
   "source": [
    "### Forward Pass\n",
    "The states of the LSTM are calculated as:\n",
    "- $f_t=\\sigma\\left(W_f x_{t}+U_f h_{t-1}+b_f\\right)$ (forget gate)\n",
    "- $i_t=\\sigma\\left(W_i x_t+U_i h_{t-1}+b_i\\right)$ (input gate)\n",
    "- $o_t=\\sigma\\left(W_o x_{t}+U_o h_{t-1}+b_o\\right)$ (output gate)\n",
    "- $\\widetilde{c}_t=\\tanh \\left(W_c x_{t}+U_c h_{t-1}+b_c\\right)$ (cell candidate)\n",
    "- $c_t=f_t \\circ c_{t-1}+i_t \\circ \\widetilde{c}_t$ (cell state)\n",
    "- $h_t=o_t \\circ \\tanh \\left(c_t\\right)$ (hidden state)"
   ]
  },
  {
   "attachments": {},
   "cell_type": "markdown",
   "metadata": {},
   "source": [
    "### Backpropagation"
   ]
  },
  {
   "attachments": {},
   "cell_type": "markdown",
   "metadata": {},
   "source": [
    "## GRU\n",
    "A more simple alternative to LSTM networks is the GRU (gated recurrent unit) network. The GRU does not have an output gate, and combines the input and forget gate into a single update gate. This update gate determines the amount of previous information that will be passed on. It also introduces a new gate called the reset gate, which decides how much of the past information is neglected.\n",
    "\n",
    "<div>\n",
    "<img src=\"https://stanford.edu/~shervine/teaching/cs-230/illustrations/gru-ltr.png?00f278f71b4833d32a87ed53d86f251c\" width=\"500\"/>\n",
    "</div> "
   ]
  },
  {
   "attachments": {},
   "cell_type": "markdown",
   "metadata": {},
   "source": [
    "### Forward Pass\n",
    "The states of the GRU are calculated as:\n",
    "- $u_t =\\sigma_g\\left(W_u x_t+U_u h_{t-1}+b_u\\right)$ (update gate)\n",
    "- $r_t =\\sigma_g\\left(W_r x_t+U_r h_{t-1}+b_r\\right)$ (reset gate)\n",
    "- $\\widetilde{h}_t =\\phi_h\\left(W_h x_t+U_h\\left(r_t \\odot h_{t-1}\\right)+b_h\\right)$ (candidate)\n",
    "- $h_t =\\left(1-z_t\\right) \\odot h_{t-1}+z_t \\odot \\widetilde{h}_t$ (reset)"
   ]
  },
  {
   "attachments": {},
   "cell_type": "markdown",
   "metadata": {},
   "source": [
    "# TESTING"
   ]
  },
  {
   "cell_type": "code",
   "execution_count": 4,
   "metadata": {},
   "outputs": [
    {
     "name": "stdout",
     "output_type": "stream",
     "text": [
      "rnn\n",
      "Epoch 0, training loss: 0.6371553910757091\n",
      "Epoch 5, training loss: 0.2615283048913892\n",
      "Epoch 10, training loss: 0.12415324997038135\n",
      "Epoch 15, training loss: 0.05702711345459219\n",
      "Epoch 20, training loss: 0.028823024045021024\n",
      "Epoch 25, training loss: 0.01834049317266129\n",
      "lstm\n",
      "Epoch 0, training loss: 0.9935933963987711\n",
      "Epoch 5, training loss: 1.020028769821776\n",
      "Epoch 10, training loss: 0.03130734896686829\n",
      "Epoch 15, training loss: 0.016812997438567873\n",
      "Epoch 20, training loss: 0.01179056115025054\n",
      "Epoch 25, training loss: 0.009058149057822588\n",
      "gru\n",
      "Epoch 0, training loss: 1.3779674653223706\n",
      "Epoch 5, training loss: 0.440220858569123\n",
      "Epoch 10, training loss: 0.025040269984706695\n",
      "Epoch 15, training loss: 0.01392503671669992\n",
      "Epoch 20, training loss: 0.009393616333388713\n",
      "Epoch 25, training loss: 0.0069793758834461525\n"
     ]
    },
    {
     "data": {
      "text/plain": [
       "0.0"
      ]
     },
     "execution_count": 4,
     "metadata": {},
     "output_type": "execute_result"
    }
   ],
   "source": [
    "from rnn import RNN\n",
    "from lstm import LSTM\n",
    "from gru import GRU\n",
    "import numpy as np\n",
    "\n",
    "vocab_size = 5\n",
    "\n",
    "###\n",
    "seq1 = np.zeros((3,vocab_size,1))\n",
    "s1 = [0,2,4]\n",
    "\n",
    "for i,val in enumerate(s1):\n",
    "    seq1[i][val] = 1\n",
    "\n",
    "y1 = np.zeros((2,1))\n",
    "y1[0] = 1\n",
    "\n",
    "\n",
    "###\n",
    "seq2 = np.zeros((4,vocab_size,1))\n",
    "s2 = [1,3,2,0]\n",
    "\n",
    "for i,val in enumerate(s2):\n",
    "    seq2[i][val] = 1\n",
    "\n",
    "y2 = np.zeros((2,1))\n",
    "y2[1] = 1\n",
    "\n",
    "###\n",
    "seq3 = np.zeros((3,vocab_size,1))\n",
    "s3 = [0,3,1]\n",
    "\n",
    "for i,val in enumerate(s3):\n",
    "    seq3[i][val] = 1\n",
    "\n",
    "y3 = np.zeros((2,1))\n",
    "y3[0] = 1\n",
    "\n",
    "Xtrain = [seq1, seq2]\n",
    "Ytrain = [y1, y2]\n",
    "\n",
    "Xtest = [seq3]\n",
    "Ytest = [y3]\n",
    "\n",
    "rnntest = RNN(input_dim=vocab_size, output_dim=2, hidden_dim=5, learning_rate=.1)\n",
    "lstmtest = LSTM(input_dim=vocab_size, output_dim=2, hidden_dim=5, learning_rate=.4)\n",
    "grutest = GRU(input_dim=vocab_size, output_dim=2, hidden_dim=5, learning_rate=.4)\n",
    "\n",
    "epochs = 30\n",
    "\n",
    "print(\"rnn\")\n",
    "rnntest.fit(Xtrain, Ytrain, num_epochs=epochs)\n",
    "rnntest.evaluate(Xtest, Ytest)\n",
    "\n",
    "print(\"lstm\")\n",
    "lstmtest.fit(Xtrain, Ytrain, num_epochs=epochs)\n",
    "lstmtest.evaluate(Xtest, Ytest)\n",
    "\n",
    "print(\"gru\")\n",
    "grutest.fit(Xtrain, Ytrain, num_epochs=epochs)\n",
    "grutest.evaluate(Xtest, Ytest)"
   ]
  },
  {
   "attachments": {},
   "cell_type": "markdown",
   "metadata": {},
   "source": [
    "## Evaluation on IMDB Dataset\n",
    "To test and compare the models we will use the IMDB Movie Reviews Dataset. The dataset consists of 25,000 movie reviews from IMDB, labeled by sentiment (positive/negative), and the words are indexed by overall frequency in the dataset e.g. `3` encodes the third most frequent word."
   ]
  },
  {
   "cell_type": "code",
   "execution_count": 46,
   "metadata": {},
   "outputs": [],
   "source": [
    "(X_train, y_train), (X_test, y_test) = imdb.load_data() # get the data\n",
    "\n",
    "word_index = imdb.get_word_index()\n",
    "index_to_word = dict([(value,key) for (key,value) in word_index.items()])"
   ]
  },
  {
   "attachments": {},
   "cell_type": "markdown",
   "metadata": {},
   "source": [
    "an example:"
   ]
  },
  {
   "cell_type": "code",
   "execution_count": 47,
   "metadata": {},
   "outputs": [
    {
     "name": "stdout",
     "output_type": "stream",
     "text": [
      " this film was just brilliant casting location scenery story direction everyone's really suited the part they played and you could just imagine being there robert redford's is an amazing actor and now the same being director norman's father came from the same scottish island as myself so i loved the fact there was a real connection with this film the witty remarks throughout the film were great it was just brilliant so much that i bought the film as soon as it was released for retail and would recommend it to everyone to watch and the fly fishing was amazing really cried at the end it was so sad and you know what they say if you cry at a film it must have been good and this definitely was also congratulations to the two little boy's that played the part's of norman and paul they were just brilliant children are often left out of the praising list i think because the stars that play them all grown up are such a big profile for the whole film but these children are amazing and should be praised for what they have done don't you think the whole story was so lovely because it was true and was someone's life after all that was shared with us all\n"
     ]
    }
   ],
   "source": [
    "def decode(input):\n",
    "    sentence = []\n",
    "    for i in input:\n",
    "        sentence.append(index_to_word.get(i-3, ''))\n",
    "    print(\" \".join(sentence))\n",
    "    return sentence\n",
    "\n",
    "decode(X_train[0]);"
   ]
  },
  {
   "attachments": {},
   "cell_type": "markdown",
   "metadata": {},
   "source": [
    "### Preprocessing\n",
    "Because RNNs can be very slow, especially when dealing with longer sequences, we will only use a small portion of the vocabulary and very small portion of the dataset. Do note that there are ways to speed up computation like parallel processing."
   ]
  },
  {
   "cell_type": "code",
   "execution_count": 89,
   "metadata": {},
   "outputs": [],
   "source": [
    "num_examples = 100\n",
    "half = int(num_examples/2)\n",
    "\n",
    "indx = np.zeros(num_examples, dtype=np.int8)\n",
    "test = np.array([1,2,3])\n",
    "\n",
    "pos_count, neg_count = 0, 0\n",
    "\n",
    "for i, y in enumerate(y_train):\n",
    "    if y == 0 and pos_count < half:\n",
    "        indx[pos_count] = int(i)\n",
    "        pos_count += 1\n",
    "    elif y == 1 and neg_count < half:\n",
    "        indx[neg_count+half] = int(i)\n",
    "        neg_count += 1\n",
    "    elif pos_count >= half and neg_count >= half:\n",
    "        break\n",
    "    else:\n",
    "        continue\n",
    "\n",
    "\n",
    "X_small, y_small = X_train[indx], y_train[indx]"
   ]
  },
  {
   "cell_type": "code",
   "execution_count": 90,
   "metadata": {},
   "outputs": [],
   "source": [
    "vocab_size = 50\n",
    "def remove_unwanted(lst, min=10, max=vocab_size):\n",
    "    \"\"\"\n",
    "    Remove unwanted words.\n",
    "    \"\"\"\n",
    "    new = []\n",
    "    for x in lst:\n",
    "        if x - 3 > min and x < max+min:\n",
    "            new.append(x-min)\n",
    "    return new\n",
    "\n",
    "X_small = [remove_unwanted(x) for x in X_small]"
   ]
  },
  {
   "attachments": {},
   "cell_type": "markdown",
   "metadata": {},
   "source": [
    "Converting the words to vectors."
   ]
  },
  {
   "cell_type": "code",
   "execution_count": 91,
   "metadata": {},
   "outputs": [
    {
     "data": {
      "text/plain": [
       "(7, 6, 1)"
      ]
     },
     "execution_count": 91,
     "metadata": {},
     "output_type": "execute_result"
    }
   ],
   "source": [
    "def one_hot_x(X, size=vocab_size):\n",
    "    \"\"\"\n",
    "    One-hot encoding for the input data.\n",
    "    \"\"\"\n",
    "    ret = [None] * len(X)\n",
    "    # go through each movie review\n",
    "    for i, seq in enumerate(X):\n",
    "        xx = np.zeros((len(seq), size, 1))\n",
    "        # go through each sequence\n",
    "        for j, val in enumerate(seq):\n",
    "            xx[j][val] = 1 # set word index to 1\n",
    "        ret[i] = xx # add to list\n",
    "    \n",
    "    return ret\n",
    "\n",
    "def one_hot_y(Y, num_class=2):\n",
    "    \"\"\"\n",
    "    One-hot encoding for the output data.\n",
    "    \"\"\"\n",
    "    ret = [None] * Y.size\n",
    "    # go through each classification\n",
    "    for i, val in enumerate(Y):\n",
    "        y = np.zeros((num_class, 1))\n",
    "        y[val] = 1 # set value to 1\n",
    "        ret[i] = y # add to list\n",
    "    \n",
    "    return ret\n",
    "\n",
    "x_input = one_hot_x(X_small)\n",
    "y_input = one_hot_y(y_small)\n",
    "x_input[0].shape"
   ]
  },
  {
   "cell_type": "code",
   "execution_count": 92,
   "metadata": {},
   "outputs": [
    {
     "ename": "IndexError",
     "evalue": "list index out of range",
     "output_type": "error",
     "traceback": [
      "\u001b[1;31m---------------------------------------------------------------------------\u001b[0m",
      "\u001b[1;31mIndexError\u001b[0m                                Traceback (most recent call last)",
      "\u001b[1;32mc:\\Users\\hongj\\.vscode\\rnn\\rnn_eval.ipynb Cell 40\u001b[0m in \u001b[0;36m<cell line: 2>\u001b[1;34m()\u001b[0m\n\u001b[0;32m      <a href='vscode-notebook-cell:/c%3A/Users/hongj/.vscode/rnn/rnn_eval.ipynb#Y102sZmlsZQ%3D%3D?line=0'>1</a>\u001b[0m RNN_Model \u001b[39m=\u001b[39m RNN(input_dim\u001b[39m=\u001b[39mvocab_size, hidden_dim\u001b[39m=\u001b[39m\u001b[39m15\u001b[39m, output_dim\u001b[39m=\u001b[39m\u001b[39m2\u001b[39m, learning_rate\u001b[39m=\u001b[39m\u001b[39m.01\u001b[39m)\n\u001b[1;32m----> <a href='vscode-notebook-cell:/c%3A/Users/hongj/.vscode/rnn/rnn_eval.ipynb#Y102sZmlsZQ%3D%3D?line=1'>2</a>\u001b[0m RNN_loss \u001b[39m=\u001b[39m RNN_Model\u001b[39m.\u001b[39;49mfit(x_input, y_input, \u001b[39m15\u001b[39;49m)\n",
      "File \u001b[1;32mc:\\Users\\hongj\\.vscode\\rnn\\model_base.py:93\u001b[0m, in \u001b[0;36mModel.fit\u001b[1;34m(self, Xtrain, Ytrain, num_epochs, print_flag)\u001b[0m\n\u001b[0;32m     90\u001b[0m Y \u001b[39m=\u001b[39m Ytrain[j] \u001b[39m# target of training example\u001b[39;00m\n\u001b[0;32m     92\u001b[0m \u001b[39m# forward pass\u001b[39;00m\n\u001b[1;32m---> 93\u001b[0m Y_hat \u001b[39m=\u001b[39m \u001b[39mself\u001b[39;49m\u001b[39m.\u001b[39;49mforward(X)\n\u001b[0;32m     95\u001b[0m \u001b[39m# back prop\u001b[39;00m\n\u001b[0;32m     96\u001b[0m loss \u001b[39m=\u001b[39m \u001b[39mself\u001b[39m\u001b[39m.\u001b[39mbackward(X, Y, Y_hat)\n",
      "File \u001b[1;32mc:\\Users\\hongj\\.vscode\\rnn\\rnn.py:67\u001b[0m, in \u001b[0;36mRNN.forward\u001b[1;34m(self, X)\u001b[0m\n\u001b[0;32m     64\u001b[0m     \u001b[39mself\u001b[39m\u001b[39m.\u001b[39mhidden_states\u001b[39m.\u001b[39mappend(\u001b[39mself\u001b[39m\u001b[39m.\u001b[39mhidden\u001b[39m.\u001b[39mcopy())\n\u001b[0;32m     65\u001b[0m     \u001b[39mself\u001b[39m\u001b[39m.\u001b[39moutputs\u001b[39m.\u001b[39mappend(y)\n\u001b[1;32m---> 67\u001b[0m \u001b[39mreturn\u001b[39;00m \u001b[39mself\u001b[39;49m\u001b[39m.\u001b[39;49moutputs[\u001b[39m-\u001b[39;49m\u001b[39m1\u001b[39;49m]\n",
      "\u001b[1;31mIndexError\u001b[0m: list index out of range"
     ]
    }
   ],
   "source": [
    "RNN_Model = RNN(input_dim=vocab_size, hidden_dim=15, output_dim=2, learning_rate=.01)\n",
    "RNN_loss = RNN_Model.fit(x_input, y_input, 15)"
   ]
  },
  {
   "attachments": {},
   "cell_type": "markdown",
   "metadata": {},
   "source": [
    "Training the RNN Model."
   ]
  },
  {
   "cell_type": "code",
   "execution_count": 172,
   "metadata": {},
   "outputs": [
    {
     "name": "stdout",
     "output_type": "stream",
     "text": [
      "Epoch 0, training loss: 35.143561551175765\n",
      "Epoch 5, training loss: 34.91930693993624\n",
      "Epoch 10, training loss: 34.7578386383605\n"
     ]
    }
   ],
   "source": [
    "RNN_Model = RNN(input_dim=vocab_size, hidden_dim=15, output_dim=2)\n",
    "RNN_loss = RNN_Model.fit(x_input, y_input, 15)"
   ]
  },
  {
   "attachments": {},
   "cell_type": "markdown",
   "metadata": {},
   "source": [
    "Training the LSTM Model."
   ]
  },
  {
   "cell_type": "code",
   "execution_count": 52,
   "metadata": {},
   "outputs": [
    {
     "name": "stdout",
     "output_type": "stream",
     "text": [
      "Epoch 0, training loss: 34.61253478074688\n",
      "Epoch 5, training loss: 34.24239378893665\n",
      "Epoch 10, training loss: 34.05509409213114\n"
     ]
    }
   ],
   "source": [
    "LSTM_Model = LSTM(input_dim=vocab_size, hidden_dim=15, output_dim=2)\n",
    "start = time.time()\n",
    "LSTM_loss = LSTM_Model.fit(x_input, y_input, 15)\n",
    "end = time.time()\n",
    "LSTM_time = end - start"
   ]
  },
  {
   "attachments": {},
   "cell_type": "markdown",
   "metadata": {},
   "source": [
    "Training the GRU Model."
   ]
  },
  {
   "cell_type": "code",
   "execution_count": 213,
   "metadata": {},
   "outputs": [
    {
     "name": "stdout",
     "output_type": "stream",
     "text": [
      "Epoch 0, training loss: 34.73470587386535\n",
      "Epoch 5, training loss: 34.24387848410067\n",
      "Epoch 10, training loss: 34.05277465450606\n"
     ]
    }
   ],
   "source": [
    "GRU_Model = GRU(input_dim=vocab_size, hidden_dim=15, output_dim=2)\n",
    "start = time.time()\n",
    "GRU_loss = GRU_Model.fit(x_input, y_input, 15)\n",
    "end = time.time()\n",
    "GRU_time = end - start"
   ]
  },
  {
   "attachments": {},
   "cell_type": "markdown",
   "metadata": {},
   "source": [
    "Comparing Model Loss."
   ]
  },
  {
   "cell_type": "code",
   "execution_count": 214,
   "metadata": {},
   "outputs": [
    {
     "data": {
      "image/png": "[encoded data removed]",
      "text/plain": [
       "<Figure size 432x288 with 1 Axes>"
      ]
     },
     "metadata": {
      "needs_background": "light"
     },
     "output_type": "display_data"
    }
   ],
   "source": [
    "x = range(1,16)\n",
    "plt.plot(x, RNN_loss, label ='rnn')\n",
    "plt.plot(x, LSTM_loss, label ='lstm')\n",
    "plt.plot(x, GRU_loss, label ='gru')\n",
    "\n",
    "plt.xlabel(\"epochs\")\n",
    "plt.ylabel(\"loss\")\n",
    "plt.legend()\n",
    "plt.show()"
   ]
  },
  {
   "attachments": {},
   "cell_type": "markdown",
   "metadata": {},
   "source": [
    "Comparing the time taken."
   ]
  },
  {
   "cell_type": "code",
   "execution_count": 28,
   "metadata": {},
   "outputs": [
    {
     "data": {
      "image/png": "[encoded data removed]",
      "text/plain": [
       "<Figure size 432x288 with 1 Axes>"
      ]
     },
     "metadata": {
      "needs_background": "light"
     },
     "output_type": "display_data"
    }
   ],
   "source": [
    "sizes = [10, 20, 50, 100, 200, 500, 1000]\n",
    "model_times= [[], [], []]\n",
    "\n",
    "(X_tiny, y_tiny) = (X_train[0:10], y_train[0:10])\n",
    "y_test = one_hot_y(y_tiny)\n",
    "\n",
    "for s in sizes:\n",
    "    X_test = [remove_unwanted(x, min=1, max=s) for x in X_tiny.copy()]\n",
    "    X_test = one_hot_x(X_test, size=s)\n",
    "\n",
    "    RNN_test = RNN(input_dim=s, hidden_dim=s, output_dim=2)\n",
    "    LSTM_test = LSTM(input_dim=s, hidden_dim=s, output_dim=2)\n",
    "    GRU_test = GRU(input_dim=s, hidden_dim=s, output_dim=2)\n",
    "\n",
    "    models = [RNN_test, LSTM_test, GRU_test]\n",
    "\n",
    "    for i, model in enumerate(models):\n",
    "        start = time.time()\n",
    "        model.fit(X_test, y_test, num_epochs=1, print_flag=False)\n",
    "        end = time.time() # calculate time taken\n",
    "        model_times[i].append(end - start) # add to list\n",
    "\n",
    "plt.plot(sizes, model_times[0], label ='rnn')\n",
    "plt.plot(sizes, model_times[1], label ='lstm')\n",
    "plt.plot(sizes, model_times[2], label ='gru')\n",
    "\n",
    "plt.xlabel(\"input dimension\")\n",
    "plt.ylabel(\"time (seconds)\")\n",
    "plt.legend()\n",
    "plt.show()"
   ]
  }
 ],
 "metadata": {
  "kernelspec": {
   "display_name": "Python 3",
   "language": "python",
   "name": "python3"
  },
  "language_info": {
   "codemirror_mode": {
    "name": "ipython",
    "version": 3
   },
   "file_extension": ".py",
   "mimetype": "text/x-python",
   "name": "python",
   "nbconvert_exporter": "python",
   "pygments_lexer": "ipython3",
   "version": "3.9.7"
  },
  "orig_nbformat": 4
 },
 "nbformat": 4,
 "nbformat_minor": 2
}
